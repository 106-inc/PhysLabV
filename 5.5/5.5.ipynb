{
 "cells": [
  {
   "cell_type": "code",
   "execution_count": 2,
   "source": [
    "import numpy as np\n",
    "import matplotlib.pyplot as plt\n",
    "import csv\n",
    "import os"
   ],
   "outputs": [],
   "metadata": {}
  },
  {
   "cell_type": "code",
   "execution_count": 3,
   "source": [
    "os.listdir('../')"
   ],
   "outputs": [
    {
     "output_type": "execute_result",
     "data": {
      "text/plain": [
       "['.venv',\n",
       " '5.1',\n",
       " 'route.pdf',\n",
       " '.gitignore',\n",
       " 'headers',\n",
       " 'LICENSE',\n",
       " 'README.md',\n",
       " '.git',\n",
       " '5.5',\n",
       " '1.3',\n",
       " 'csv_to_tex.py',\n",
       " '.vscode',\n",
       " 'pdf_to_booklet.py']"
      ]
     },
     "metadata": {},
     "execution_count": 3
    }
   ],
   "metadata": {}
  }
 ],
 "metadata": {
  "orig_nbformat": 4,
  "language_info": {
   "name": "python",
   "version": "3.8.10",
   "mimetype": "text/x-python",
   "codemirror_mode": {
    "name": "ipython",
    "version": 3
   },
   "pygments_lexer": "ipython3",
   "nbconvert_exporter": "python",
   "file_extension": ".py"
  },
  "kernelspec": {
   "name": "python3",
   "display_name": "Python 3.8.10 64-bit ('.venv': venv)"
  },
  "interpreter": {
   "hash": "6ca63421f06b587b91b93c4a2ce4064f60ce26c81f1f07c8d976efc2531f9850"
  }
 },
 "nbformat": 4,
 "nbformat_minor": 2
}