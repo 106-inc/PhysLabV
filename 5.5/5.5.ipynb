{
 "cells": [
  {
   "cell_type": "code",
   "execution_count": 2,
   "source": [
    "import numpy as np\n",
    "import matplotlib.pyplot as plt\n",
    "import csv\n",
    "import os"
   ],
   "outputs": [],
   "metadata": {}
  },
  {
   "cell_type": "code",
   "execution_count": 23,
   "source": [
    "files = os.listdir('src/csv')\n",
    "for i in range(len(files)):\n",
    "  files[i] = 'src/csv/' + files[i]\n",
    "\n",
    "frames = dict()\n",
    "for file in files:\n",
    "  frames[file] = []\n",
    "  with open(file, \"r\") as csvfile:\n",
    "    reader = csv.reader(csvfile, delimiter=\";\")\n",
    "    for row in reader:\n",
    "      frames[file].append(row)\n",
    "    \n",
    "for key in frames.keys():\n",
    "  frames[key] = np.array(elem).transpose()\n",
    "\n",
    "frames"
   ],
   "outputs": [
    {
     "output_type": "execute_result",
     "data": {
      "text/plain": [
       "{'src/csv/Co.csv': array([['1', '0'],\n",
       "        ['2', '0'],\n",
       "        ['3', '1'],\n",
       "        ...,\n",
       "        ['2046', '0'],\n",
       "        ['2047', '0'],\n",
       "        ['2048', '0']], dtype='<U4'),\n",
       " 'src/csv/Background.csv': array([['1', '0'],\n",
       "        ['2', '0'],\n",
       "        ['3', '1'],\n",
       "        ...,\n",
       "        ['2046', '0'],\n",
       "        ['2047', '0'],\n",
       "        ['2048', '0']], dtype='<U4'),\n",
       " 'src/csv/Cs.csv': array([['1', '0'],\n",
       "        ['2', '0'],\n",
       "        ['3', '1'],\n",
       "        ...,\n",
       "        ['2046', '0'],\n",
       "        ['2047', '0'],\n",
       "        ['2048', '0']], dtype='<U4'),\n",
       " 'src/csv/Na.csv': array([['1', '0'],\n",
       "        ['2', '0'],\n",
       "        ['3', '1'],\n",
       "        ...,\n",
       "        ['2046', '0'],\n",
       "        ['2047', '0'],\n",
       "        ['2048', '0']], dtype='<U4'),\n",
       " 'src/csv/Eu.csv': array([['1', '0'],\n",
       "        ['2', '0'],\n",
       "        ['3', '1'],\n",
       "        ...,\n",
       "        ['2046', '0'],\n",
       "        ['2047', '0'],\n",
       "        ['2048', '0']], dtype='<U4'),\n",
       " 'src/csv/Am.csv': array([['1', '0'],\n",
       "        ['2', '0'],\n",
       "        ['3', '1'],\n",
       "        ...,\n",
       "        ['2046', '0'],\n",
       "        ['2047', '0'],\n",
       "        ['2048', '0']], dtype='<U4')}"
      ]
     },
     "metadata": {},
     "execution_count": 23
    }
   ],
   "metadata": {}
  }
 ],
 "metadata": {
  "orig_nbformat": 4,
  "language_info": {
   "name": "python",
   "version": "3.8.10",
   "mimetype": "text/x-python",
   "codemirror_mode": {
    "name": "ipython",
    "version": 3
   },
   "pygments_lexer": "ipython3",
   "nbconvert_exporter": "python",
   "file_extension": ".py"
  },
  "kernelspec": {
   "name": "python3",
   "display_name": "Python 3.8.10 64-bit ('.venv': venv)"
  },
  "interpreter": {
   "hash": "6ca63421f06b587b91b93c4a2ce4064f60ce26c81f1f07c8d976efc2531f9850"
  }
 },
 "nbformat": 4,
 "nbformat_minor": 2
}